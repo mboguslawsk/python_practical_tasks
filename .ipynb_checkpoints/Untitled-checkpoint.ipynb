{
 "cells": [
  {
   "cell_type": "code",
   "execution_count": 11,
   "id": "0c7660e3-f5ac-48d2-9344-d1d29f3813c3",
   "metadata": {},
   "outputs": [],
   "source": [
    "import json\n",
    "from pprint import pprint"
   ]
  },
  {
   "cell_type": "code",
   "execution_count": 29,
   "id": "19deb51b-898a-400f-8d6f-332f5ddbc477",
   "metadata": {},
   "outputs": [
    {
     "name": "stdout",
     "output_type": "stream",
     "text": [
      "Survey_Name\n",
      "_________________________________\n"
     ]
    }
   ],
   "source": [
    "def create_questions_string_json(input_json_list, question_str, answers_list):\n",
    "    new_question = {\n",
    "        \"headings\": [\n",
    "            {\n",
    "                \"heading\": question_str\n",
    "            }\n",
    "        ],\n",
    "        \"position\": 1,\n",
    "        \"family\": \"single_choice\",\n",
    "        \"subtype\": \"vertical\",\n",
    "        \"answers\": {\n",
    "            \"choices\":[\n",
    "                {\n",
    "                    \"text\": answers_list[0]\n",
    "                },\n",
    "                {\n",
    "                    \"text\": answers_list[1]\n",
    "                },\n",
    "                {\n",
    "                    \"text\": answers_list[2]\n",
    "                }\n",
    "            ],\n",
    "            \"other\":[\n",
    "                {\n",
    "                    \"text\": \"Other\",\n",
    "                    \"num_chars\": 100,\n",
    "                    \"num_lines\": 3\n",
    "                }\n",
    "            ]\n",
    "        }\n",
    "    }\n",
    "    input_json_list.append(new_question)\n",
    "\n",
    "questions_list = []\n",
    "    \n",
    "with open(\"task2_survey.json\", \"r\") as f:\n",
    "    data = json.load(f)\n",
    "    for line in data:\n",
    "        print(line)\n",
    "    print(\"_________________________________\")\n",
    "    # pprint(data)\n",
    "    for question_num, metadata in data['Survey_Name'][\"Page_Name\"].items():\n",
    "        string_question = \"\"\n",
    "        answers_list = []\n",
    "        for item, item_text in metadata.items():\n",
    "            if isinstance(item_text, list):\n",
    "                answers_list = item_text\n",
    "            else:\n",
    "                string_question = item_text\n",
    "        create_questions_string_json(questions_list, string_question, string_question)\n",
    "                    \n"
   ]
  },
  {
   "cell_type": "code",
   "execution_count": 30,
   "id": "bd9b4ed5-96e6-4e3c-9980-0282b05de803",
   "metadata": {},
   "outputs": [
    {
     "data": {
      "text/plain": [
       "[{'headings': [{'heading': 'Description of question 1'}],\n",
       "  'position': 1,\n",
       "  'family': 'single_choice',\n",
       "  'subtype': 'vertical',\n",
       "  'answers': {'choices': [{'text': 'D'}, {'text': 'e'}, {'text': 's'}],\n",
       "   'other': [{'text': 'Other', 'num_chars': 100, 'num_lines': 3}]}},\n",
       " {'headings': [{'heading': 'Description of question 2'}],\n",
       "  'position': 1,\n",
       "  'family': 'single_choice',\n",
       "  'subtype': 'vertical',\n",
       "  'answers': {'choices': [{'text': 'D'}, {'text': 'e'}, {'text': 's'}],\n",
       "   'other': [{'text': 'Other', 'num_chars': 100, 'num_lines': 3}]}},\n",
       " {'headings': [{'heading': 'Description of question 3'}],\n",
       "  'position': 1,\n",
       "  'family': 'single_choice',\n",
       "  'subtype': 'vertical',\n",
       "  'answers': {'choices': [{'text': 'D'}, {'text': 'e'}, {'text': 's'}],\n",
       "   'other': [{'text': 'Other', 'num_chars': 100, 'num_lines': 3}]}},\n",
       " {'headings': [{'heading': 'Description of question 4'}],\n",
       "  'position': 1,\n",
       "  'family': 'single_choice',\n",
       "  'subtype': 'vertical',\n",
       "  'answers': {'choices': [{'text': 'D'}, {'text': 'e'}, {'text': 's'}],\n",
       "   'other': [{'text': 'Other', 'num_chars': 100, 'num_lines': 3}]}}]"
      ]
     },
     "execution_count": 30,
     "metadata": {},
     "output_type": "execute_result"
    }
   ],
   "source": [
    "questions_list"
   ]
  },
  {
   "cell_type": "code",
   "execution_count": 17,
   "id": "e062d21c-92ff-4ca6-8181-8132ed367b67",
   "metadata": {},
   "outputs": [],
   "source": [
    "d={\"ads\": 2}\n"
   ]
  },
  {
   "cell_type": "code",
   "execution_count": 18,
   "id": "4de79d5f-10d1-474c-801c-620fe3b25ab7",
   "metadata": {},
   "outputs": [
    {
     "ename": "AttributeError",
     "evalue": "'dict' object has no attribute 'append'",
     "output_type": "error",
     "traceback": [
      "\u001b[0;31m---------------------------------------------------------------------------\u001b[0m",
      "\u001b[0;31mAttributeError\u001b[0m                            Traceback (most recent call last)",
      "Cell \u001b[0;32mIn[18], line 1\u001b[0m\n\u001b[0;32m----> 1\u001b[0m \u001b[43mabc\u001b[49m\u001b[38;5;241;43m.\u001b[39;49m\u001b[43mappend\u001b[49m(d)\n",
      "\u001b[0;31mAttributeError\u001b[0m: 'dict' object has no attribute 'append'"
     ]
    }
   ],
   "source": [
    "abc.append(d)"
   ]
  },
  {
   "cell_type": "code",
   "execution_count": null,
   "id": "1dea1dc6-4435-423a-9626-72901010d308",
   "metadata": {},
   "outputs": [],
   "source": []
  }
 ],
 "metadata": {
  "kernelspec": {
   "display_name": "Python 3 (ipykernel)",
   "language": "python",
   "name": "python3"
  },
  "language_info": {
   "codemirror_mode": {
    "name": "ipython",
    "version": 3
   },
   "file_extension": ".py",
   "mimetype": "text/x-python",
   "name": "python",
   "nbconvert_exporter": "python",
   "pygments_lexer": "ipython3",
   "version": "3.9.6"
  }
 },
 "nbformat": 4,
 "nbformat_minor": 5
}
